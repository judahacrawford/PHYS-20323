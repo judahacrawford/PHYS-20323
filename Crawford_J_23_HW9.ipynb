{
 "cells": [
  {
   "cell_type": "markdown",
   "metadata": {},
   "source": [
    "# Phyiscs Problems - Lectures 18 & 19 - Homework 9 \n",
    "\n",
    "FALL 2023\n"
   ]
  },
  {
   "cell_type": "markdown",
   "metadata": {},
   "source": [
    "### 1) Altitude of a satellite\n",
    "\n",
    "A satellite is to be launched into a circular orbit around the Earth so that it orbits the planet once every T seconds.\n",
    "\n",
    "The altitude h above the Earth’s surface that the satellite must have is:\n",
    "\n",
    "$$h = \\left( \\frac{G M T^2}{4\\pi^2} \\right)^{1/3} - R$$\n",
    "\n",
    "where $G = 6.67 \\times 10^{-11}$ m$^3$ kg$^{-1}$ s$^{-2}$\n",
    "is Newton's gravitational constant, $M = 5.97 \\times 10^{24}$ kg is the mass of the Earth, and $R = 6371$ km is its radius.\n",
    "\n",
    "#### Write a program that asks the user to enter the desired value of T and then calculates and prints out the correct altitude in meters.\n"
   ]
  },
  {
   "cell_type": "code",
   "execution_count": 18,
   "metadata": {},
   "outputs": [
    {
     "name": "stdout",
     "output_type": "stream",
     "text": [
      "Time for orbit: 86148\n"
     ]
    },
    {
     "data": {
      "text/plain": [
       "35773762.329895645"
      ]
     },
     "execution_count": 18,
     "metadata": {},
     "output_type": "execute_result"
    }
   ],
   "source": [
    "import numpy as np\n",
    "from numpy import pi\n",
    "G = 6.67*10**(-11)\n",
    "M = 5.97*10**24\n",
    "R = 6371000\n",
    "T = int(input(\"Time for orbit: \"))\n",
    "\n",
    "\n",
    "((G*M*T**2)/(4*pi**2))**(1/3)-R\n"
   ]
  },
  {
   "cell_type": "markdown",
   "metadata": {},
   "source": [
    "Use your program to calculate the altitudes of satellites that orbit the Earth once\n",
    "a day (so-called “geosynchronous” orbit), once every 90 minutes, and once every\n",
    "45 minutes. What do you conclude from the last of these calculations?\n",
    "\n",
    "\n",
    "\n"
   ]
  },
  {
   "cell_type": "code",
   "execution_count": 17,
   "metadata": {},
   "outputs": [
    {
     "name": "stdout",
     "output_type": "stream",
     "text": [
      "35855910.17617497 279321.62537285965 -2181559.8978108233\n"
     ]
    }
   ],
   "source": [
    "O1440min = 35855910.17617497\n",
    "O90min = 279321.62537285965\n",
    "O45min = -2181559.8978108233\n",
    "\n",
    "print(O1440min, O90min, O45min)"
   ]
  },
  {
   "cell_type": "markdown",
   "metadata": {},
   "source": [
    "Technically a geosynchronous satellite is one that orbits the Earth once persidereal\n",
    "day, which is 23.93 hours, not 24 hours. Why is this? And how much difference\n",
    "will it make to the altitude of the satellite?"
   ]
  },
  {
   "cell_type": "code",
   "execution_count": 19,
   "metadata": {},
   "outputs": [
    {
     "data": {
      "text/plain": [
       "-82147.8462793231"
      ]
     },
     "execution_count": 19,
     "metadata": {},
     "output_type": "execute_result"
    }
   ],
   "source": [
    "35773762.329895645- 35855910.17617497"
   ]
  },
  {
   "cell_type": "markdown",
   "metadata": {},
   "source": [
    "#### Modify your code to calculate the times from 0.5 hour  to 30 days, in steps of 0.5 hours.   Then plot those data points (time vs h) with properly labled axes.  Plot orbits with height below 0 as red, and plots positive heights with times less than geosynchronous in blue and those longer in green."
   ]
  },
  {
   "cell_type": "code",
   "execution_count": 24,
   "metadata": {},
   "outputs": [
    {
     "data": {
      "image/png": "[encoded data removed]",
      "text/plain": [
       "<Figure size 640x480 with 1 Axes>"
      ]
     },
     "metadata": {},
     "output_type": "display_data"
    }
   ],
   "source": [
    "import numpy as np\n",
    "from numpy import pi\n",
    "from numpy import arange\n",
    "from pylab import plot,xlabel,ylabel,show\n",
    "\n",
    "# Constants\n",
    "G = 6.67*10**(-11)\n",
    "M = 5.97*10**24\n",
    "R = 6371000\n",
    "\n",
    "# Lists of plot points\n",
    "tpoints = arange(0.5,720,0.5) # make time array\n",
    "period_b0 = []\n",
    "period_0g = []\n",
    "period_ag = []\n",
    "Below0 = [] \n",
    "zerotogeo = []\n",
    "abovegeo = []\n",
    "\n",
    "\n",
    "# Main loop\n",
    "for t in tpoints : \n",
    "\n",
    "    h = ((G*M*(t*60*60)**2)/(4*pi**2))**(1/3)-R\n",
    "    \n",
    "    if h <= 0:\n",
    "        Below0.append(h)\n",
    "        period_b0.append(t)\n",
    "    elif h > 0 and h <= 35773762:\n",
    "        zerotogeo.append(h)\n",
    "        period_0g.append(t)\n",
    "    elif h > 35773762:\n",
    "        abovegeo.append(h)\n",
    "        period_ag.append(t)\n",
    "    \n",
    "    \n",
    "\n",
    "# Make the graph\n",
    "plot(period_b0,Below0, c='r')\n",
    "plot(period_0g,zerotogeo, c='b')\n",
    "plot(period_ag,abovegeo, c='g')\n",
    "xlabel(\"Period{hrs}\")\n",
    "ylabel(\"Height {m}\")\n",
    "show()\n",
    "\n"
   ]
  },
  {
   "cell_type": "markdown",
   "metadata": {},
   "source": [
    "### 2) Special Relativity\n",
    "\n",
    "A spaceship travels from Earth in a straight line at a (relativistic)\n",
    "speed $v$ to another planet $x$ light years away. Write a program to ask\n",
    "the user for the value of $x$ and the speed $v$ as a fraction of the speed\n",
    "of light, then print out the time in years that the spaceship takes to\n",
    "reach its destination (a) in the rest frame of an observer on Earth\n",
    "and (b) as perceived by a passenger on board the ship.\n",
    "\n",
    "$$x' = \\gamma (x - vt)$$\n",
    "\n",
    "$$t' = \\gamma \\left(t - \\frac{v x}{c^2}\\right)$$\n",
    "\n",
    "$$\\gamma = \\frac{1}{\\sqrt{1 - \\frac{v^2}{c^2}}}$$\n"
   ]
  },
  {
   "cell_type": "code",
   "execution_count": 29,
   "metadata": {},
   "outputs": [
    {
     "name": "stdout",
     "output_type": "stream",
     "text": [
      "Distance in Lightyears: 4\n",
      "Speed relative to Speed of Light: .5\n",
      "Time it would take: 8.0 years from rest frame\n",
      "Time it would take: 6.9282032302755105 years from on board the ship\n"
     ]
    }
   ],
   "source": [
    "x = float(input(\"Distance in Lightyears: \"))\n",
    "v = float(input(\"Speed relative to Speed of Light: \"))\n",
    "t = x/v\n",
    "gam = 1/(1-v**2)**(1/2)\n",
    "tp = gam*(t - (v*x))\n",
    "\n",
    "print(\"Time it would take:\",str(t), \"years from rest frame\")\n",
    "print(\"Time it would take:\",str(tp), \"years from on board the ship\")"
   ]
  },
  {
   "cell_type": "markdown",
   "metadata": {},
   "source": [
    "#### Use your program to calculate the answers for a planet 10 light years away with $v = 0.90c$,  $v = 0.98c$, $v = 0.999c$."
   ]
  },
  {
   "cell_type": "code",
   "execution_count": 30,
   "metadata": {},
   "outputs": [
    {
     "name": "stdout",
     "output_type": "stream",
     "text": [
      "Distance in Lightyears: 10\n",
      "Speed relative to Speed of Light: .9\n",
      "Time it would take: 11.11111111111111 years from rest frame\n",
      "Time it would take: 4.843221048378526 years from on board the ship\n",
      "Distance in Lightyears: 10\n",
      "Speed relative to Speed of Light: .98\n",
      "Time it would take: 10.204081632653061 years from rest frame\n",
      "Time it would take: 2.0305866063400337 years from on board the ship\n",
      "Distance in Lightyears: 10\n",
      "Speed relative to Speed of Light: .999\n",
      "Time it would take: 10.01001001001001 years from rest frame\n",
      "Time it would take: 0.4475493274496109 years from on board the ship\n"
     ]
    }
   ],
   "source": [
    "x = float(input(\"Distance in Lightyears: \"))\n",
    "v = float(input(\"Speed relative to Speed of Light: \"))\n",
    "t = x/v\n",
    "gam = 1/(1-v**2)**(1/2)\n",
    "tp = gam*(t - (v*x))\n",
    "\n",
    "print(\"Time it would take:\",str(t), \"years from rest frame\")\n",
    "print(\"Time it would take:\",str(tp), \"years from on board the ship\")\n",
    "x = float(input(\"Distance in Lightyears: \"))\n",
    "v = float(input(\"Speed relative to Speed of Light: \"))\n",
    "t = x/v\n",
    "gam = 1/(1-v**2)**(1/2)\n",
    "tp = gam*(t - (v*x))\n",
    "\n",
    "print(\"Time it would take:\",str(t), \"years from rest frame\")\n",
    "print(\"Time it would take:\",str(tp), \"years from on board the ship\")\n",
    "x = float(input(\"Distance in Lightyears: \"))\n",
    "v = float(input(\"Speed relative to Speed of Light: \"))\n",
    "t = x/v\n",
    "gam = 1/(1-v**2)**(1/2)\n",
    "tp = gam*(t - (v*x))\n",
    "\n",
    "print(\"Time it would take:\",str(t), \"years from rest frame\")\n",
    "print(\"Time it would take:\",str(tp), \"years from on board the ship\")"
   ]
  },
  {
   "cell_type": "markdown",
   "metadata": {},
   "source": [
    "### 3) The quadratic equation\n",
    "\n",
    " Write a program that takes as input three numbers, $a$, $b$, and $c$, and prints out the two solutions to the quadratic equation $ax^2 + bx + c = 0$ using the standard\n",
    "formula:\n",
    "\n",
    "$$x = \\frac{-b \\pm \\sqrt{b^2 - 4ac}}{2a}$$\n",
    "\n",
    "Use your program to compute the solutions of $0.001x^2 + 1000x + 0.001 = 0$."
   ]
  },
  {
   "cell_type": "code",
   "execution_count": 33,
   "metadata": {
    "scrolled": true
   },
   "outputs": [
    {
     "name": "stdout",
     "output_type": "stream",
     "text": [
      "-999999.999999 -9.999894245993346e-07\n"
     ]
    }
   ],
   "source": [
    "a = .001\n",
    "b = 1000\n",
    "c = .001\n",
    "\n",
    "\n",
    "px = ((-b)+((b**2-(4*a*c))**(1/2)))/(2*a)\n",
    "mx = ((-b)-((b**2-(4*a*c))**(1/2)))/(2*a)\n",
    "\n",
    "print(mx,px)"
   ]
  },
  {
   "cell_type": "markdown",
   "metadata": {},
   "source": [
    "There is another way to write the solutions to a quadratic equation. Multiplying top and bottom of the solution above by $-b \\mp \\sqrt{b^2 - 4ac}$, show that the solutions\n",
    "can also be written as:\n",
    "\n",
    "$$x = \\frac{2c}{-b \\mp \\sqrt{b^2 - 4ac}}$$\n",
    "\n",
    "Add further lines to your program to print these values in addition to the earlier ones and again use the program to solve $0.001x^2 + 1000x + 0.001 = 0$. What do you see? How do you explain it?"
   ]
  },
  {
   "cell_type": "code",
   "execution_count": 11,
   "metadata": {},
   "outputs": [
    {
     "name": "stdout",
     "output_type": "stream",
     "text": [
      "Original: -999999.999999 and -9.999894245993346e-07\n",
      "Flipped: -1.000000000001e-06 and -1000010.5755125057\n"
     ]
    }
   ],
   "source": [
    "a = .001\n",
    "b = 1000\n",
    "c = .001\n",
    "\n",
    "\n",
    "px = ((-b)+((b**2-(4*a*c))**(1/2)))/(2*a)\n",
    "mx = ((-b)-((b**2-(4*a*c))**(1/2)))/(2*a)\n",
    "fpx = (2*c)/((-b)+((b**2-(4*a*c))**(1/2)))\n",
    "fmx = (2*c)/((-b)-((b**2-(4*a*c))**(1/2)))\n",
    "\n",
    "print(\"Original:\", mx, \"and\",px)\n",
    "print(\"Flipped:\",fmx, \"and\",fpx)"
   ]
  },
  {
   "cell_type": "code",
   "execution_count": 2,
   "metadata": {},
   "outputs": [],
   "source": [
    "# We need to make it avoid dividing by small numbers, we need to check when the denominator is close to zero and\n",
    "# chose to use the other equation"
   ]
  },
  {
   "cell_type": "code",
   "execution_count": 36,
   "metadata": {},
   "outputs": [
    {
     "name": "stdout",
     "output_type": "stream",
     "text": [
      "The roots are (2.280733088102207, -2.630733088102206)\n"
     ]
    }
   ],
   "source": [
    "a = 100\n",
    "b = 35\n",
    "c = -600\n",
    "\n",
    "def qform(a,b,c):\n",
    "    sroot = ((b**2-(4*a*c))**(1/2))\n",
    "\n",
    "    if -b + sroot < 0.01:\n",
    "        mx = (-b + sroot)/(2*a)\n",
    "        px = (2*c)/(-b+sroot)\n",
    "    else:\n",
    "        mx = (-b - sroot)/(2*a)\n",
    "        px = (2*c)/(-b-sroot)\n",
    "    return px,mx\n",
    "    \n",
    "print(\"The roots are\", qform(a,b,c))"
   ]
  },
  {
   "cell_type": "markdown",
   "metadata": {},
   "source": [
    "Using what you have learned, write a new program that calculates both roots of a quadratic equation accurately in all cases."
   ]
  },
  {
   "cell_type": "markdown",
   "metadata": {},
   "source": [
    "### 4) Planetary orbits\n",
    "\n",
    "The orbit in space of one body around another, such as a planet around the Sun, need not be circular. In general it takes the form of an ellipse, with the body sometimes closer in and sometimes further out. If you are given the distance $l_1$ of closest approach that a planet makes to the Sun, also called its perihelion, and its linear velocity $v_1$ at *perihelion*, then any other property of the orbit can be calculated from these two as follows.\n",
    "\n",
    "Kepler’s second law tells us that the distance $l_2$ and velocity $v_2$ of the planet at its most distant point, or *aphelion*, satisfy $l_2 v_2 = l_1 v_1$. \n",
    "\n",
    "\n",
    "Given the values of $v_1$, $l_1$, and $l_2$, other parameters of the orbit are given by simple formulas can that be derived from Kepler’s laws and the fact that the orbit is an ellipse:\n",
    "\n",
    "Semi-Major Axis $$ a = \\frac{1}{2} (l_1 + l_2) $$ \n",
    "Semi-Minor Axis: $$ b = \\sqrt{l_1  l_2} $$ \n",
    "Orbital Period: $$ T = \\frac{2 \\pi a b}{l_1 v_1} $$ \n",
    "Orbital eccentricity:  $$ e = \\frac{l_2 - l_1}{l_2 + l_1}$$\n",
    "\n",
    "#### Write a program with functions that asks the user to enter the distance to the Sun and velocity at perihelion, then calculates and prints the quantities $l2$, $v2$, $a$, $b$, $T$, and $e$.\n",
    "\n",
    "\n"
   ]
  },
  {
   "cell_type": "code",
   "execution_count": 44,
   "metadata": {},
   "outputs": [
    {
     "name": "stdout",
     "output_type": "stream",
     "text": [
      "Velocity at Perihelion:3.03e4\n",
      "Distance at Perihelion:1.47e11\n",
      "V2: 29308.821984239286\n",
      "l2: 151971307560.4054\n",
      "Semi-Major Axis: 149485653780.2027\n",
      "Semi-Minor Axis: 149464986573.3764\n",
      "Orbital Period: 0.9993030173536862\n",
      "Orbital Eccentricity: 0.016628042339484273\n"
     ]
    }
   ],
   "source": [
    "from numpy import pi\n",
    "\n",
    "v1 = float(input(\"Velocity at Perihelion:\"))\n",
    "l1 = float(input(\"Distance at Perihelion:\"))\n",
    "v2 = 0\n",
    "G = 6.6743e-11\n",
    "M = 1.989e30\n",
    "\n",
    "v2p = qform(1,((-2*G*M)/(v1*l1)),(-(v1**2-((2*G*M)/l1))))\n",
    "\n",
    "v2 = min(v2p)\n",
    "            \n",
    "def l2(l1,v1,v2):\n",
    "    l2 = l1*v1/v2\n",
    "    return l2\n",
    "l2f=l2(l1,v1,v2)\n",
    "def SMaA(l1,l2):\n",
    "    a = (1/2)*(l1+l2)\n",
    "    return a\n",
    "\n",
    "def SMiA(l1,l2):\n",
    "    b = (l1*l2)**(1/2)\n",
    "    return b\n",
    "\n",
    "def OP(l1,v1,a,b):\n",
    "    T = (2*pi*a*b)/(l1*v1)\n",
    "    return T\n",
    "\n",
    "def OE(l1,l2):\n",
    "    e = (l2-l1)/(l2+l1)\n",
    "    return e\n",
    "print(\"V2:\",v2)\n",
    "print(\"l2:\",l2f)\n",
    "print(\"Semi-Major Axis:\",SMaA(l1,l2f))\n",
    "print(\"Semi-Minor Axis:\",SMiA(l1,l2f))\n",
    "print(\"Orbital Period:\", (OP(l1,v1,SMaA(l1,l2f),SMiA(l1,l2f)))/3.154e7)\n",
    "print(\"Orbital Eccentricity:\",OE(l1,l2f))"
   ]
  },
  {
   "cell_type": "markdown",
   "metadata": {},
   "source": [
    "# Test your program by having it calculate the properties of the orbits of the Earth (for which $l_1 = 1.4710 \\times 10^{11}$ m and $v_1 = 3.0287 \\times 10^4$ m s$^{−1}$ ) and Halley’s comet ($l_1 = 8.7830 \\times 10^{10}$ m and $v_1 = 5.4529 \\times 10^4$ m s${−1}$ ). Among other things, you should find that the orbital period of the Earth is one year and that of Halley’s comet is about 76 years."
   ]
  },
  {
   "cell_type": "code",
   "execution_count": 46,
   "metadata": {},
   "outputs": [
    {
     "name": "stdout",
     "output_type": "stream",
     "text": [
      "Velocity at Perihelion:3.0287e4\n",
      "Distance at Perihelion:1.471e11\n",
      "V2: 29306.86765769036\n",
      "l2: 152019579575.60553\n",
      "Semi-Major Axis: 149559789787.80276\n",
      "Semi-Minor Axis: 149539560503.47205\n",
      "Orbital Period: 1.000046501950514\n",
      "Orbital Eccentricity: 0.016446865773833624\n"
     ]
    }
   ],
   "source": [
    "from numpy import pi\n",
    "\n",
    "v1 = float(input(\"Velocity at Perihelion:\"))\n",
    "l1 = float(input(\"Distance at Perihelion:\"))\n",
    "v2 = 0\n",
    "G = 6.6743e-11\n",
    "M = 1.989e30\n",
    "\n",
    "v2p = qform(1,((-2*G*M)/(v1*l1)),(-(v1**2-((2*G*M)/l1))))\n",
    "\n",
    "v2 = min(v2p)\n",
    "            \n",
    "def l2(l1,v1,v2):\n",
    "    l2 = l1*v1/v2\n",
    "    return l2\n",
    "l2f=l2(l1,v1,v2)\n",
    "def SMaA(l1,l2):\n",
    "    a = (1/2)*(l1+l2)\n",
    "    return a\n",
    "\n",
    "def SMiA(l1,l2):\n",
    "    b = (l1*l2)**(1/2)\n",
    "    return b\n",
    "\n",
    "def OP(l1,v1,a,b):\n",
    "    T = (2*pi*a*b)/(l1*v1)\n",
    "    return T\n",
    "\n",
    "def OE(l1,l2):\n",
    "    e = (l2-l1)/(l2+l1)\n",
    "    return e\n",
    "print(\"V2:\",v2)\n",
    "print(\"l2:\",l2f)\n",
    "print(\"Semi-Major Axis:\",SMaA(l1,l2f))\n",
    "print(\"Semi-Minor Axis:\",SMiA(l1,l2f))\n",
    "print(\"Orbital Period:\", (OP(l1,v1,SMaA(l1,l2f),SMiA(l1,l2f)))/3.154e7)\n",
    "print(\"Orbital Eccentricity:\",OE(l1,l2f))"
   ]
  },
  {
   "cell_type": "code",
   "execution_count": 47,
   "metadata": {},
   "outputs": [
    {
     "name": "stdout",
     "output_type": "stream",
     "text": [
      "Velocity at Perihelion:5.4529e4\n",
      "Distance at Perihelion:8.783e10\n",
      "V2: 908.0467471756092\n",
      "l2: 5274268185967.952\n",
      "Semi-Major Axis: 2681049092983.976\n",
      "Semi-Minor Axis: 680616613647.9224\n",
      "Orbital Period: 75.90232438824349\n",
      "Orbital Eccentricity: 0.9672404357570915\n"
     ]
    }
   ],
   "source": [
    "from numpy import pi\n",
    "\n",
    "v1 = float(input(\"Velocity at Perihelion:\"))\n",
    "l1 = float(input(\"Distance at Perihelion:\"))\n",
    "v2 = 0\n",
    "G = 6.6743e-11\n",
    "M = 1.989e30\n",
    "\n",
    "v2p = qform(1,((-2*G*M)/(v1*l1)),(-(v1**2-((2*G*M)/l1))))\n",
    "\n",
    "v2 = min(v2p)\n",
    "            \n",
    "def l2(l1,v1,v2):\n",
    "    l2 = l1*v1/v2\n",
    "    return l2\n",
    "l2f=l2(l1,v1,v2)\n",
    "def SMaA(l1,l2):\n",
    "    a = (1/2)*(l1+l2)\n",
    "    return a\n",
    "\n",
    "def SMiA(l1,l2):\n",
    "    b = (l1*l2)**(1/2)\n",
    "    return b\n",
    "\n",
    "def OP(l1,v1,a,b):\n",
    "    T = (2*pi*a*b)/(l1*v1)\n",
    "    return T\n",
    "\n",
    "def OE(l1,l2):\n",
    "    e = (l2-l1)/(l2+l1)\n",
    "    return e\n",
    "print(\"V2:\",v2)\n",
    "print(\"l2:\",l2f)\n",
    "print(\"Semi-Major Axis:\",SMaA(l1,l2f))\n",
    "print(\"Semi-Minor Axis:\",SMiA(l1,l2f))\n",
    "print(\"Orbital Period:\", (OP(l1,v1,SMaA(l1,l2f),SMiA(l1,l2f)))/3.154e7)\n",
    "print(\"Orbital Eccentricity:\",OE(l1,l2f))"
   ]
  },
  {
   "cell_type": "code",
   "execution_count": null,
   "metadata": {},
   "outputs": [],
   "source": []
  }
 ],
 "metadata": {
  "kernelspec": {
   "display_name": "Python 3 (ipykernel)",
   "language": "python",
   "name": "python3"
  },
  "language_info": {
   "codemirror_mode": {
    "name": "ipython",
    "version": 3
   },
   "file_extension": ".py",
   "mimetype": "text/x-python",
   "name": "python",
   "nbconvert_exporter": "python",
   "pygments_lexer": "ipython3",
   "version": "3.11.4"
  }
 },
 "nbformat": 4,
 "nbformat_minor": 4
}
